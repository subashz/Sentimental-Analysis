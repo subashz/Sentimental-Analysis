{
 "cells": [
  {
   "cell_type": "markdown",
   "id": "96019787",
   "metadata": {},
   "source": [
    "### Importing all the necessary libraries"
   ]
  },
  {
   "cell_type": "code",
   "execution_count": 1,
   "id": "b38b1e23",
   "metadata": {},
   "outputs": [],
   "source": [
    "from google_play_scraper import Sort,reviews\n",
    "import pandas as pd\n",
    "\n",
    "pd.set_option('display.max_colwidth' , 330)"
   ]
  },
  {
   "cell_type": "code",
   "execution_count": 2,
   "id": "6c63ab49",
   "metadata": {},
   "outputs": [],
   "source": [
    "result = reviews(\n",
    "    'com.amazon.mShop.android.shopping',\n",
    "    lang='en', \n",
    "    country='us', \n",
    "    sort=Sort.MOST_RELEVANT, \n",
    "    count = 2500 # 2500 reviews\n",
    ")"
   ]
  },
  {
   "cell_type": "code",
   "execution_count": 3,
   "id": "e84d1334",
   "metadata": {},
   "outputs": [],
   "source": [
    "#creating a list to be used to create a pandas data frame\n",
    "field = ['StarRating', 'Review']\n",
    "\n",
    "reviewList = []\n",
    "\n",
    "for i in range(0,2500):\n",
    "    newList = []\n",
    "    StarRating = result[0][i]['score']\n",
    "    Review = result[0][i]['content']\n",
    "    newList.append(StarRating)\n",
    "    newList.append(Review)\n",
    "    reviewList.append(newList)"
   ]
  },
  {
   "cell_type": "code",
   "execution_count": 4,
   "id": "48287c76",
   "metadata": {},
   "outputs": [],
   "source": [
    "#creating a pandas dataframe \n",
    "\n",
    "df = pd.DataFrame(reviewList, columns = field)"
   ]
  },
  {
   "cell_type": "code",
   "execution_count": 5,
   "id": "357c2b8f",
   "metadata": {},
   "outputs": [
    {
     "data": {
      "text/html": [
       "<div>\n",
       "<style scoped>\n",
       "    .dataframe tbody tr th:only-of-type {\n",
       "        vertical-align: middle;\n",
       "    }\n",
       "\n",
       "    .dataframe tbody tr th {\n",
       "        vertical-align: top;\n",
       "    }\n",
       "\n",
       "    .dataframe thead th {\n",
       "        text-align: right;\n",
       "    }\n",
       "</style>\n",
       "<table border=\"1\" class=\"dataframe\">\n",
       "  <thead>\n",
       "    <tr style=\"text-align: right;\">\n",
       "      <th></th>\n",
       "      <th>StarRating</th>\n",
       "      <th>Review</th>\n",
       "    </tr>\n",
       "  </thead>\n",
       "  <tbody>\n",
       "    <tr>\n",
       "      <th>0</th>\n",
       "      <td>1</td>\n",
       "      <td>They just updated the app so that when you go to shop and you look up a product it autoplays a video on every. single. product. And when you go to click on the product that you may be interested in, it starts blasting the product video. I was advised there is no way to turn this off unless I also wanted to stop autoplay on m...</td>\n",
       "    </tr>\n",
       "    <tr>\n",
       "      <th>1</th>\n",
       "      <td>3</td>\n",
       "      <td>I wish the app would work properly, nothing seems to want to load. It keeps freezing and clicking to things when I haven't touched my phone(as I left it alone to let it load). Also keeps exiting me out, hasn't completely crashed, but definitely likes to take me back to home. Nov 16, even after update, still having the same i...</td>\n",
       "    </tr>\n",
       "    <tr>\n",
       "      <th>2</th>\n",
       "      <td>1</td>\n",
       "      <td>It's difficult to find what I'm looking for. There are so many unrelated results, the filters are usually for things I don't care about, and many vendors (especially China-based ones) list innacurate or misleading information. Account settings are a nightnare to navigate; there's not even an option to search the settings (en...</td>\n",
       "    </tr>\n",
       "    <tr>\n",
       "      <th>3</th>\n",
       "      <td>3</td>\n",
       "      <td>It's hard to find exactly what you're looking for and sometimes it excludes results for some reason. Heaven forbid you try and move something from one list to another or delete something off a list. Everytime I try the app immediately stalls and quits working within a few minutes. I never get more than 7 things deleted at a ...</td>\n",
       "    </tr>\n",
       "    <tr>\n",
       "      <th>4</th>\n",
       "      <td>1</td>\n",
       "      <td>Horrible algorithm, you have to know exactly how to search to find what you want, and your home page will be filled with the most useless items for you. It crashes, loads slow, bugs, and is generally inconvenient. Also they keep updating what the app looks like and every time it gets uglier and more inconvenient. The orders ...</td>\n",
       "    </tr>\n",
       "  </tbody>\n",
       "</table>\n",
       "</div>"
      ],
      "text/plain": [
       "   StarRating  \\\n",
       "0           1   \n",
       "1           3   \n",
       "2           1   \n",
       "3           3   \n",
       "4           1   \n",
       "\n",
       "                                                                                                                                                                                                                                                                                                                                      Review  \n",
       "0  They just updated the app so that when you go to shop and you look up a product it autoplays a video on every. single. product. And when you go to click on the product that you may be interested in, it starts blasting the product video. I was advised there is no way to turn this off unless I also wanted to stop autoplay on m...  \n",
       "1  I wish the app would work properly, nothing seems to want to load. It keeps freezing and clicking to things when I haven't touched my phone(as I left it alone to let it load). Also keeps exiting me out, hasn't completely crashed, but definitely likes to take me back to home. Nov 16, even after update, still having the same i...  \n",
       "2  It's difficult to find what I'm looking for. There are so many unrelated results, the filters are usually for things I don't care about, and many vendors (especially China-based ones) list innacurate or misleading information. Account settings are a nightnare to navigate; there's not even an option to search the settings (en...  \n",
       "3  It's hard to find exactly what you're looking for and sometimes it excludes results for some reason. Heaven forbid you try and move something from one list to another or delete something off a list. Everytime I try the app immediately stalls and quits working within a few minutes. I never get more than 7 things deleted at a ...  \n",
       "4  Horrible algorithm, you have to know exactly how to search to find what you want, and your home page will be filled with the most useless items for you. It crashes, loads slow, bugs, and is generally inconvenient. Also they keep updating what the app looks like and every time it gets uglier and more inconvenient. The orders ...  "
      ]
     },
     "execution_count": 5,
     "metadata": {},
     "output_type": "execute_result"
    }
   ],
   "source": [
    "df.head()"
   ]
  },
  {
   "cell_type": "code",
   "execution_count": 6,
   "id": "4f3cc6f3",
   "metadata": {},
   "outputs": [
    {
     "data": {
      "text/plain": [
       "(2500, 2)"
      ]
     },
     "execution_count": 6,
     "metadata": {},
     "output_type": "execute_result"
    }
   ],
   "source": [
    "df.shape"
   ]
  },
  {
   "cell_type": "code",
   "execution_count": 7,
   "id": "f85c61ce",
   "metadata": {},
   "outputs": [],
   "source": [
    "df.to_csv('amazon.csv',index=False)"
   ]
  },
  {
   "cell_type": "markdown",
   "id": "33dab4eb",
   "metadata": {},
   "source": [
    "Here, we have scraped the amazon review data from google play store using google play store API. We have scraped the star rating given by the individual and the reviews they have placed. We have scraped 2500 reviews which will be good enough for sentimental analysis.\n",
    "\n",
    "And we save it for sentimental analysis."
   ]
  }
 ],
 "metadata": {
  "kernelspec": {
   "display_name": "Python 3 (ipykernel)",
   "language": "python",
   "name": "python3"
  },
  "language_info": {
   "codemirror_mode": {
    "name": "ipython",
    "version": 3
   },
   "file_extension": ".py",
   "mimetype": "text/x-python",
   "name": "python",
   "nbconvert_exporter": "python",
   "pygments_lexer": "ipython3",
   "version": "3.8.8"
  }
 },
 "nbformat": 4,
 "nbformat_minor": 5
}
